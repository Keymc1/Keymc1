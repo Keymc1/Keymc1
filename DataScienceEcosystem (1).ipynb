{
 "cells": [
  {
   "cell_type": "markdown",
   "id": "1c2536fb-9955-4b62-ae0c-08792a06e196",
   "metadata": {},
   "source": [
    "# Data Science Tools and Ecosystem"
   ]
  },
  {
   "cell_type": "markdown",
   "id": "1b922c0d-65f1-4c68-b711-3a637388b47c",
   "metadata": {},
   "source": [
    "## __Objectives:__\n",
    "- List popular languages for Data Science\n",
    "- List commonly used libraries by Data Scientist\n",
    "- List Data Science Tools\n",
    "- Show different types of mathmatical expressions\n"
   ]
  },
  {
   "cell_type": "markdown",
   "id": "4120629c-58cb-499c-96b3-64d0c1d5d532",
   "metadata": {},
   "source": [
    "# In this notebook, Data Science Tools and Ecosystem are summarized."
   ]
  },
  {
   "cell_type": "markdown",
   "id": "b89f393e-e874-4f8b-a03d-a0c6b3908c90",
   "metadata": {},
   "source": [
    "# Some of the popular languages that Data Scientist use are:\n",
    "1. Python\n",
    "2. R\n",
    "3. SQL\n",
    "4. Scala\n",
    "5. Java\n",
    "6. C++\n",
    "7. Julia\n",
    "8. JavaScript (not be related to Java)"
   ]
  },
  {
   "cell_type": "markdown",
   "id": "daca5520-499d-4c34-84d6-fc3443a7f7d3",
   "metadata": {},
   "source": [
    "# Some of the commonly used libraries used by Data Scientists include:\n",
    "1. Pandas\n",
    "2. Numpy\n",
    "3. Matplotlib (visualization)\n",
    "4. Seaborn (visualization)\n",
    "S. Scikit Learn (machine learning)\n",
    "6. Apache Spark (general purpose)\n",
    "7. Scala (Vegas)\n",
    "8. R (ggplot2)\n"
   ]
  },
  {
   "cell_type": "markdown",
   "id": "c7d2cc54-d7de-400d-984b-3552cca10bfa",
   "metadata": {},
   "source": [
    "| Data Science Tools |\n",
    "| ------------------ |\n",
    "| Code Asset Management |\n",
    "| Data Asset Management |\n",
    "| Execution Environment |\n",
    "| Development Environment |"
   ]
  },
  {
   "cell_type": "markdown",
   "id": "fef3b610-a96d-499b-bd00-8ad9f3ebfc16",
   "metadata": {},
   "source": [
    "### Below are a few examples of evaluating arithmetic expressions in Python\n"
   ]
  },
  {
   "cell_type": "code",
   "execution_count": 1,
   "id": "773e977b-cd94-4dde-aed1-1e03bada2643",
   "metadata": {},
   "outputs": [
    {
     "data": {
      "text/html": [
       "6"
      ],
      "text/latex": [
       "6"
      ],
      "text/markdown": [
       "6"
      ],
      "text/plain": [
       "[1] 6"
      ]
     },
     "metadata": {},
     "output_type": "display_data"
    }
   ],
   "source": [
    "2 * 3 # Multiplication"
   ]
  },
  {
   "cell_type": "code",
   "execution_count": 2,
   "id": "bbbdaf7e-cb73-4212-8526-ee0e1223a707",
   "metadata": {},
   "outputs": [
    {
     "data": {
      "text/html": [
       "3"
      ],
      "text/latex": [
       "3"
      ],
      "text/markdown": [
       "3"
      ],
      "text/plain": [
       "[1] 3"
      ]
     },
     "metadata": {},
     "output_type": "display_data"
    }
   ],
   "source": [
    "4 - 1 # Subtraction"
   ]
  },
  {
   "cell_type": "code",
   "execution_count": 3,
   "id": "d60059c8-9ae2-4003-9db4-9aa00358abed",
   "metadata": {},
   "outputs": [
    {
     "data": {
      "text/html": [
       "3"
      ],
      "text/latex": [
       "3"
      ],
      "text/markdown": [
       "3"
      ],
      "text/plain": [
       "[1] 3"
      ]
     },
     "metadata": {},
     "output_type": "display_data"
    }
   ],
   "source": [
    "a <- 1 # Assigning 1 to the variable called \"a\"\n",
    "a + 2 # Adding 2"
   ]
  },
  {
   "cell_type": "code",
   "execution_count": 1,
   "id": "31a2e8ba-ba94-4fcc-89de-4047dbe72989",
   "metadata": {
    "tags": []
   },
   "outputs": [
    {
     "data": {
      "text/plain": [
       "17"
      ]
     },
     "execution_count": 1,
     "metadata": {},
     "output_type": "execute_result"
    }
   ],
   "source": [
    "### This is a simple arithmetic expression to multiply then add integers\n",
    "( 3 * 4 ) + 5\n"
   ]
  },
  {
   "cell_type": "code",
   "execution_count": 7,
   "id": "a5180de9-5f3c-408a-8c88-bdcd969b6b6f",
   "metadata": {
    "tags": []
   },
   "outputs": [
    {
     "name": "stdout",
     "output_type": "stream",
     "text": [
      "3.3333333333333335\n"
     ]
    }
   ],
   "source": [
    "### This will convert 200 minutes to hours by dividing by 60\n",
    "x = 200 \n",
    "y = x / 60\n",
    "print ( y )\n"
   ]
  },
  {
   "cell_type": "markdown",
   "id": "030fd924-507d-49d1-b21e-d1f32eed2bc0",
   "metadata": {},
   "source": [
    "## Author\n",
    "Mickey McCall"
   ]
  },
  {
   "cell_type": "markdown",
   "id": "5e6120b8-679c-4956-a2de-914ec2de587c",
   "metadata": {},
   "source": [
    "# ***STRINGS***\n"
   ]
  },
  {
   "cell_type": "code",
   "execution_count": 3,
   "id": "1ecc6e5a-6569-4acf-bbdf-b65429d5828e",
   "metadata": {
    "tags": []
   },
   "outputs": [
    {
     "data": {
      "text/plain": [
       "'i'"
      ]
     },
     "execution_count": 3,
     "metadata": {},
     "output_type": "execute_result"
    }
   ],
   "source": [
    "name = \"Mickey McCall\"\n",
    "name[ 1 ] "
   ]
  },
  {
   "cell_type": "code",
   "execution_count": 4,
   "id": "5ed0678b-2909-42df-9efd-71646453b552",
   "metadata": {
    "tags": []
   },
   "outputs": [
    {
     "data": {
      "text/plain": [
       "13"
      ]
     },
     "execution_count": 4,
     "metadata": {},
     "output_type": "execute_result"
    }
   ],
   "source": [
    "len (name)"
   ]
  },
  {
   "cell_type": "markdown",
   "id": "51085340-0abf-4787-9e61-803efedd9e4a",
   "metadata": {},
   "source": [
    "## The zero starts the index of positive numbers the space between y and M is sequence # 6\n",
    "| M i c k e y   M c C  a  l  l |\n",
    "|--------------------------|\n",
    "| 0 1 2 3 4 5 6 7 8 9 10 11 12 |\n",
    "\n",
    "### Remember because the index starts with 0 the string is still 13 characters long. so len(name) will be 13 not 12.\n"
   ]
  },
  {
   "cell_type": "code",
   "execution_count": 7,
   "id": "a673d1a3-f129-4930-9ebb-2394f0c079e8",
   "metadata": {
    "tags": []
   },
   "outputs": [
    {
     "data": {
      "text/plain": [
       "'Mick'"
      ]
     },
     "execution_count": 7,
     "metadata": {},
     "output_type": "execute_result"
    }
   ],
   "source": [
    "name [ 0 : 4 ] # Output will be Mick"
   ]
  },
  {
   "cell_type": "code",
   "execution_count": 9,
   "id": "ace330c5-e7ea-473f-91b8-33ab3ff15103",
   "metadata": {
    "tags": []
   },
   "outputs": [
    {
     "data": {
      "text/plain": [
       "'McCa'"
      ]
     },
     "execution_count": 9,
     "metadata": {},
     "output_type": "execute_result"
    }
   ],
   "source": [
    "name [ 7 : 11 ] # Out put will be McCa"
   ]
  },
  {
   "cell_type": "markdown",
   "id": "856bafa7-4bb3-481d-a75f-5df5282bd629",
   "metadata": {},
   "source": [
    "### Remember the negative indexing of a string starts from -1 at the end of the string. Example Mickey McCall the last \"l\" will be -1 and (M) in Mickey will be -13"
   ]
  },
  {
   "cell_type": "markdown",
   "id": "42bf5244-a112-4c3e-a7f0-299e16bbc841",
   "metadata": {},
   "source": [
    "### Slicing Strings"
   ]
  },
  {
   "cell_type": "markdown",
   "id": "ddd4092d-59fa-4ba4-92c7-feaeb997c99e",
   "metadata": {},
   "source": [
    "### When taking the slice, the first number means the index (start at 0), and the second number means the length from the index to the last element you want (start at 1)"
   ]
  },
  {
   "cell_type": "code",
   "execution_count": 11,
   "id": "c2a7281f-7808-4279-8d36-3ad8e748dca5",
   "metadata": {
    "tags": []
   },
   "outputs": [
    {
     "data": {
      "text/plain": [
       "'Mick'"
      ]
     },
     "execution_count": 11,
     "metadata": {},
     "output_type": "execute_result"
    }
   ],
   "source": [
    "name [ -13 : -9 ] # Output will be Mick"
   ]
  },
  {
   "cell_type": "code",
   "execution_count": 12,
   "id": "27bbdbc9-660f-4d2d-94b4-fb839b411d1e",
   "metadata": {
    "tags": []
   },
   "outputs": [
    {
     "data": {
      "text/plain": [
       "str"
      ]
     },
     "execution_count": 12,
     "metadata": {},
     "output_type": "execute_result"
    }
   ],
   "source": [
    "type (name)"
   ]
  },
  {
   "cell_type": "markdown",
   "id": "7b85aec0-4bb2-49ce-9a19-3fde6272354b",
   "metadata": {},
   "source": [
    "### Stride Strings\n"
   ]
  },
  {
   "cell_type": "code",
   "execution_count": 8,
   "id": "5d3c880d-6859-48a2-b00b-dcc2e07024b4",
   "metadata": {
    "tags": []
   },
   "outputs": [
    {
     "data": {
      "text/plain": [
       "'Mce cal'"
      ]
     },
     "execution_count": 8,
     "metadata": {},
     "output_type": "execute_result"
    }
   ],
   "source": [
    "# This is called striding\n",
    "\n",
    "name [ :: 2 ] # The 2 indicates selecting every 2nd variable"
   ]
  },
  {
   "cell_type": "markdown",
   "id": "7bad297a-416e-4df7-b9ae-fe9871811207",
   "metadata": {},
   "source": [
    "### Incorporate slicing with the stride. we can select the first five elements and then use the stride:\n"
   ]
  },
  {
   "cell_type": "code",
   "execution_count": 9,
   "id": "9a1b260c-fcb6-4139-9b05-e1bf49de9a54",
   "metadata": {
    "tags": []
   },
   "outputs": [
    {
     "data": {
      "text/plain": [
       "'Mce'"
      ]
     },
     "execution_count": 9,
     "metadata": {},
     "output_type": "execute_result"
    }
   ],
   "source": [
    "# Get every second element in the range between index 0 to index 4\n",
    "\n",
    "name [ 0 : 5 : 2 ]"
   ]
  },
  {
   "cell_type": "markdown",
   "id": "44348154-cf3a-47e3-b4f5-924883c8a9a8",
   "metadata": {},
   "source": [
    "## Concatenate Strings\n"
   ]
  },
  {
   "cell_type": "code",
   "execution_count": 10,
   "id": "e0558838-cee5-42e9-aa8d-9acad10d4e5e",
   "metadata": {
    "tags": []
   },
   "outputs": [
    {
     "data": {
      "text/plain": [
       "'Mickey McCall is the best '"
      ]
     },
     "execution_count": 10,
     "metadata": {},
     "output_type": "execute_result"
    }
   ],
   "source": [
    "# Using addition symbol can make new string or \"concatenate\"\n",
    "\n",
    "statement = name + \" is the best \"\n",
    "statement"
   ]
  },
  {
   "cell_type": "markdown",
   "id": "04390bd1-9303-4022-b644-6c739c2f16c1",
   "metadata": {},
   "source": [
    "### To replicate values of a string we simply multiply the string by the number of times we would like to replicate it. "
   ]
  },
  {
   "cell_type": "code",
   "execution_count": 20,
   "id": "3d24941f-3244-4383-89dc-8137cb169812",
   "metadata": {
    "tags": []
   },
   "outputs": [
    {
     "data": {
      "text/plain": [
       "'Mickey McCallMickey McCallMickey McCall'"
      ]
     },
     "execution_count": 20,
     "metadata": {},
     "output_type": "execute_result"
    }
   ],
   "source": [
    "3 * \"Mickey McCall\" # this should be three copies of the orginial name string"
   ]
  },
  {
   "cell_type": "code",
   "execution_count": 21,
   "id": "d1d11ce2-5447-4baa-b599-f0d950a337a1",
   "metadata": {
    "tags": []
   },
   "outputs": [
    {
     "data": {
      "text/plain": [
       "'Mickey McCall'"
      ]
     },
     "execution_count": 21,
     "metadata": {},
     "output_type": "execute_result"
    }
   ],
   "source": [
    "name"
   ]
  },
  {
   "cell_type": "code",
   "execution_count": 11,
   "id": "f2c845be-49eb-4e3a-b643-d9c59ab28ffb",
   "metadata": {
    "tags": []
   },
   "outputs": [
    {
     "data": {
      "text/plain": [
       "'Mickey McCallMickey McCallMickey McCall'"
      ]
     },
     "execution_count": 11,
     "metadata": {},
     "output_type": "execute_result"
    }
   ],
   "source": [
    "3 * name"
   ]
  },
  {
   "cell_type": "code",
   "execution_count": 74,
   "id": "c6a4c4e7-f1d3-4297-b7b4-1698dfb9c967",
   "metadata": {
    "tags": []
   },
   "outputs": [
    {
     "data": {
      "text/plain": [
       "' Mickey McCall '"
      ]
     },
     "execution_count": 74,
     "metadata": {},
     "output_type": "execute_result"
    }
   ],
   "source": [
    "name = \" Mickey McCall \"\n",
    "name"
   ]
  },
  {
   "cell_type": "code",
   "execution_count": 27,
   "id": "03df5b05-63dd-45af-8b64-cb48d7472574",
   "metadata": {
    "tags": []
   },
   "outputs": [
    {
     "data": {
      "text/plain": [
       "' Mickey McCall  is the best '"
      ]
     },
     "execution_count": 27,
     "metadata": {},
     "output_type": "execute_result"
    }
   ],
   "source": [
    "name = name + \" is the best \"\n",
    "name"
   ]
  },
  {
   "cell_type": "markdown",
   "id": "3e4fea93-15b8-4a1f-af95-1ccd3a02f320",
   "metadata": {},
   "source": [
    "## backslash are meant to proceed escape sequences\n",
    "## ***Escape sequences*** are strings that are difficult to input"
   ]
  },
  {
   "cell_type": "markdown",
   "id": "88addfb5-b6cf-4af7-9408-c1985ceb9074",
   "metadata": {},
   "source": [
    "## backlash \\n is a new line"
   ]
  },
  {
   "cell_type": "code",
   "execution_count": 29,
   "id": "115a3492-7baa-4ac2-8fc0-4edb7753eca7",
   "metadata": {
    "tags": []
   },
   "outputs": [
    {
     "name": "stdout",
     "output_type": "stream",
     "text": [
      " Mickey McCall \n",
      " is the best \n"
     ]
    }
   ],
   "source": [
    "print ( \" Mickey McCall \\n is the best \" )"
   ]
  },
  {
   "cell_type": "markdown",
   "id": "4a44078f-992f-4cf3-98dd-152bf12b728f",
   "metadata": {},
   "source": [
    "## backlash \\t is where a tab should be"
   ]
  },
  {
   "cell_type": "code",
   "execution_count": 30,
   "id": "dc8ad650-b5b8-4527-8af5-19ead54bc81d",
   "metadata": {
    "tags": []
   },
   "outputs": [
    {
     "name": "stdout",
     "output_type": "stream",
     "text": [
      " Mickey McCall \t is the best \n"
     ]
    }
   ],
   "source": [
    "print ( \" Mickey McCall \\t is the best \" )"
   ]
  },
  {
   "cell_type": "markdown",
   "id": "967a24c6-408b-4220-8a70-aec7c1905f5b",
   "metadata": {},
   "source": [
    "## to place a backslash \\ in your string use a double backslash \\\\"
   ]
  },
  {
   "cell_type": "code",
   "execution_count": 31,
   "id": "29a6bd22-7db7-47bb-bae0-c4fff2a63df5",
   "metadata": {
    "tags": []
   },
   "outputs": [
    {
     "name": "stdout",
     "output_type": "stream",
     "text": [
      " Mickey McCall \\ is the best \n"
     ]
    }
   ],
   "source": [
    "print ( \" Mickey McCall \\\\ is the best \" )"
   ]
  },
  {
   "cell_type": "markdown",
   "id": "61e94428-ab13-44af-80b9-d6ef6c053f52",
   "metadata": {},
   "source": [
    "### to place multiple backslashes through out your string preceed the the string with r"
   ]
  },
  {
   "cell_type": "code",
   "execution_count": 35,
   "id": "1f3353d8-4cc8-4f65-bd05-9e087c9f9080",
   "metadata": {
    "tags": []
   },
   "outputs": [
    {
     "name": "stdout",
     "output_type": "stream",
     "text": [
      " Mickey McCall \\ is the best \n"
     ]
    }
   ],
   "source": [
    "print ( r\" Mickey McCall \\ is the best \" ) #Out put is same as above"
   ]
  },
  {
   "cell_type": "markdown",
   "id": "46cc5869-5236-4512-925f-e53c78bb856a",
   "metadata": {},
   "source": [
    "#  String Operations\n"
   ]
  },
  {
   "cell_type": "markdown",
   "id": "4afe7b2b-c2da-4dca-b072-82107f0b3e9c",
   "metadata": {},
   "source": [
    "### Upper is a method to convert lower case characters to upper case characters"
   ]
  },
  {
   "cell_type": "code",
   "execution_count": 17,
   "id": "4fb7c77b-23ee-4ec9-a2c7-66e809ffe6ad",
   "metadata": {
    "tags": []
   },
   "outputs": [
    {
     "data": {
      "text/plain": [
       "' Thriller is the sixth studio album '"
      ]
     },
     "execution_count": 17,
     "metadata": {},
     "output_type": "execute_result"
    }
   ],
   "source": [
    "## Examples of Methods\n",
    "\n",
    "A = \" Thriller is the sixth studio album \"\n",
    "A"
   ]
  },
  {
   "cell_type": "code",
   "execution_count": 18,
   "id": "9a6d57a4-c8aa-4a51-a849-49f3c022cfcb",
   "metadata": {
    "tags": []
   },
   "outputs": [],
   "source": [
    "B= A.upper() # This will change lowercase characters to uppercase characters as varible B"
   ]
  },
  {
   "cell_type": "code",
   "execution_count": 38,
   "id": "5eb0da9c-a0e5-460a-a9da-9d71edda7fae",
   "metadata": {
    "tags": []
   },
   "outputs": [
    {
     "data": {
      "text/plain": [
       "' THRILLER IS THE SIXTH STUDIO ALBUM '"
      ]
     },
     "execution_count": 38,
     "metadata": {},
     "output_type": "execute_result"
    }
   ],
   "source": [
    "B"
   ]
  },
  {
   "cell_type": "code",
   "execution_count": 19,
   "id": "fc65c32c-0cde-4f5e-96f8-e09c974a6c50",
   "metadata": {
    "tags": []
   },
   "outputs": [
    {
     "data": {
      "text/plain": [
       "' Thriller is the sixth studio album '"
      ]
     },
     "execution_count": 19,
     "metadata": {},
     "output_type": "execute_result"
    }
   ],
   "source": [
    "A"
   ]
  },
  {
   "cell_type": "code",
   "execution_count": 20,
   "id": "48b6abeb-5167-42a3-b544-ceb4c657cb48",
   "metadata": {
    "tags": []
   },
   "outputs": [
    {
     "data": {
      "text/plain": [
       "' THRILLER IS THE SIXTH STUDIO ALBUM '"
      ]
     },
     "execution_count": 20,
     "metadata": {},
     "output_type": "execute_result"
    }
   ],
   "source": [
    "A . upper ( )"
   ]
  },
  {
   "cell_type": "code",
   "execution_count": 21,
   "id": "63c81c47-3144-4f7f-844a-45ab705da617",
   "metadata": {
    "tags": []
   },
   "outputs": [
    {
     "data": {
      "text/plain": [
       "' thriller is the sixth studio album '"
      ]
     },
     "execution_count": 21,
     "metadata": {},
     "output_type": "execute_result"
    }
   ],
   "source": [
    "B . lower ( )"
   ]
  },
  {
   "cell_type": "code",
   "execution_count": 13,
   "id": "a4e3d292-610c-4bae-a322-9659c49c66bb",
   "metadata": {
    "tags": []
   },
   "outputs": [
    {
     "name": "stdout",
     "output_type": "stream",
     "text": [
      "before upper :   Thriller is the sixth studio album \n",
      " After upper :   THRILLER IS THE SIXTH STUDIO ALBUM \n"
     ]
    }
   ],
   "source": [
    "# Convert all the characters in string to upper case\n",
    "\n",
    "a = \" Thriller is the sixth studio album \"\n",
    "print ( \"before upper : \", a )\n",
    "b = a . upper ( )\n",
    "print ( \" After upper : \", b )"
   ]
  },
  {
   "cell_type": "markdown",
   "id": "9ef04bc6-54ba-462c-8ee2-51c022e65498",
   "metadata": {},
   "source": [
    "## The method replace, replaces a segment of the string"
   ]
  },
  {
   "cell_type": "code",
   "execution_count": 42,
   "id": "e06cf6af-6341-4bdd-a40f-86557b6c9519",
   "metadata": {
    "tags": []
   },
   "outputs": [
    {
     "data": {
      "text/plain": [
       "' Mickey McCall is the best '"
      ]
     },
     "execution_count": 42,
     "metadata": {},
     "output_type": "execute_result"
    }
   ],
   "source": [
    "A= \" Mickey McCall is the best \" \n",
    "A"
   ]
  },
  {
   "cell_type": "code",
   "execution_count": 44,
   "id": "9151d243-440f-4776-b1fb-a6e88a8f0505",
   "metadata": {
    "tags": []
   },
   "outputs": [
    {
     "data": {
      "text/plain": [
       "'  Dawn  McCall is the best '"
      ]
     },
     "execution_count": 44,
     "metadata": {},
     "output_type": "execute_result"
    }
   ],
   "source": [
    "B = A.replace ( 'Mickey' , ' Dawn ' ) # The output should replace Mickey with Dawn\n",
    "B"
   ]
  },
  {
   "cell_type": "markdown",
   "id": "a6bf9bc0-1464-434b-817f-8245c12c5099",
   "metadata": {},
   "source": [
    "## The method find is to find substrings "
   ]
  },
  {
   "cell_type": "code",
   "execution_count": 49,
   "id": "6d1efbe8-d2f2-4acd-9172-83b2037fc1ca",
   "metadata": {
    "tags": []
   },
   "outputs": [
    {
     "data": {
      "text/plain": [
       "' Mickey McCall '"
      ]
     },
     "execution_count": 49,
     "metadata": {},
     "output_type": "execute_result"
    }
   ],
   "source": [
    "name = \" Mickey McCall \"\n",
    "name"
   ]
  },
  {
   "cell_type": "code",
   "execution_count": 79,
   "id": "6ede08d4-1ff7-4d45-87ec-2402c55b72fc",
   "metadata": {
    "tags": []
   },
   "outputs": [],
   "source": [
    "name = ( \"Mickey McCall\" )"
   ]
  },
  {
   "cell_type": "code",
   "execution_count": 60,
   "id": "413f7768-35f7-4586-9d54-aabee81ae516",
   "metadata": {
    "tags": []
   },
   "outputs": [
    {
     "data": {
      "text/plain": [
       "5"
      ]
     },
     "execution_count": 60,
     "metadata": {},
     "output_type": "execute_result"
    }
   ],
   "source": [
    "name.find ( 'ey' ) # ey is the argument the output is the first index of the sequence"
   ]
  },
  {
   "cell_type": "code",
   "execution_count": 58,
   "id": "3e6bb6b8-4000-4473-b834-226e03f37bc6",
   "metadata": {
    "tags": []
   },
   "outputs": [
    {
     "data": {
      "text/plain": [
       "8"
      ]
     },
     "execution_count": 58,
     "metadata": {},
     "output_type": "execute_result"
    }
   ],
   "source": [
    "name.find (\"McCa\")"
   ]
  },
  {
   "cell_type": "code",
   "execution_count": 61,
   "id": "80ab952b-3342-43c3-b8a6-414d8cef9e94",
   "metadata": {
    "tags": []
   },
   "outputs": [
    {
     "data": {
      "text/plain": [
       "1"
      ]
     },
     "execution_count": 61,
     "metadata": {},
     "output_type": "execute_result"
    }
   ],
   "source": [
    "name.find ( 'Mick' )"
   ]
  },
  {
   "cell_type": "code",
   "execution_count": 62,
   "id": "f7fd633f-098c-4212-9cef-1d289057b295",
   "metadata": {
    "tags": []
   },
   "outputs": [
    {
     "data": {
      "text/plain": [
       "2"
      ]
     },
     "execution_count": 62,
     "metadata": {},
     "output_type": "execute_result"
    }
   ],
   "source": [
    "name.find ( 'ick')\n"
   ]
  },
  {
   "cell_type": "code",
   "execution_count": 63,
   "id": "d2abf2a8-b3cc-4c67-9e5e-c53041cedfdc",
   "metadata": {
    "tags": []
   },
   "outputs": [
    {
     "data": {
      "text/plain": [
       "3"
      ]
     },
     "execution_count": 63,
     "metadata": {},
     "output_type": "execute_result"
    }
   ],
   "source": [
    "name.find ( 'c' )"
   ]
  },
  {
   "cell_type": "code",
   "execution_count": 64,
   "id": "d728bc66-59ee-4912-a1ff-8d89e8135622",
   "metadata": {
    "tags": []
   },
   "outputs": [
    {
     "data": {
      "text/plain": [
       "9"
      ]
     },
     "execution_count": 64,
     "metadata": {},
     "output_type": "execute_result"
    }
   ],
   "source": [
    "name.find ( 'cC' )"
   ]
  },
  {
   "cell_type": "code",
   "execution_count": 65,
   "id": "5ed29580-9f71-4745-b9e2-92a4e24d7c10",
   "metadata": {
    "tags": []
   },
   "outputs": [
    {
     "data": {
      "text/plain": [
       "' cycl'"
      ]
     },
     "execution_count": 65,
     "metadata": {},
     "output_type": "execute_result"
    }
   ],
   "source": [
    "name [:: 3 ]"
   ]
  },
  {
   "cell_type": "code",
   "execution_count": 67,
   "id": "32c4928a-be50-4a7b-9622-b2e8f99a35ba",
   "metadata": {
    "tags": []
   },
   "outputs": [
    {
     "data": {
      "text/plain": [
       "' cycl'"
      ]
     },
     "execution_count": 67,
     "metadata": {},
     "output_type": "execute_result"
    }
   ],
   "source": [
    "name [ 0 : 13 : 3 ]"
   ]
  },
  {
   "cell_type": "code",
   "execution_count": 68,
   "id": "ca77e2bf-1e54-4313-828f-04cc5b9f3bfc",
   "metadata": {
    "tags": []
   },
   "outputs": [
    {
     "data": {
      "text/plain": [
       "'l'"
      ]
     },
     "execution_count": 68,
     "metadata": {},
     "output_type": "execute_result"
    }
   ],
   "source": [
    "name [ 13 ]"
   ]
  },
  {
   "cell_type": "code",
   "execution_count": 69,
   "id": "d3ddda9d-3f98-4f9d-b5ec-df1647797630",
   "metadata": {
    "tags": []
   },
   "outputs": [
    {
     "data": {
      "text/plain": [
       "' Mickey McCal'"
      ]
     },
     "execution_count": 69,
     "metadata": {},
     "output_type": "execute_result"
    }
   ],
   "source": [
    "name [ 0 : 13 ]"
   ]
  },
  {
   "cell_type": "code",
   "execution_count": 83,
   "id": "38d5bccb-7469-4855-9eab-74e5a21e6580",
   "metadata": {
    "tags": []
   },
   "outputs": [
    {
     "data": {
      "text/plain": [
       "'Mickey McCall'"
      ]
     },
     "execution_count": 83,
     "metadata": {},
     "output_type": "execute_result"
    }
   ],
   "source": [
    "name [0 : 17]"
   ]
  },
  {
   "cell_type": "code",
   "execution_count": 84,
   "id": "17e36234-a59e-4fcf-9368-41e9365ac674",
   "metadata": {
    "tags": []
   },
   "outputs": [
    {
     "data": {
      "text/plain": [
       "-1"
      ]
     },
     "execution_count": 84,
     "metadata": {},
     "output_type": "execute_result"
    }
   ],
   "source": [
    "name.find ('keymc')"
   ]
  },
  {
   "cell_type": "code",
   "execution_count": 85,
   "id": "3a96b185-3f74-42e6-9d9c-2664241d0495",
   "metadata": {
    "tags": []
   },
   "outputs": [
    {
     "data": {
      "text/plain": [
       "str"
      ]
     },
     "execution_count": 85,
     "metadata": {},
     "output_type": "execute_result"
    }
   ],
   "source": [
    "type (name)"
   ]
  },
  {
   "cell_type": "code",
   "execution_count": 86,
   "id": "d8e81b7f-67e8-45e1-8d65-887e8ca01a72",
   "metadata": {
    "tags": []
   },
   "outputs": [
    {
     "data": {
      "text/plain": [
       "True"
      ]
     },
     "execution_count": 86,
     "metadata": {},
     "output_type": "execute_result"
    }
   ],
   "source": [
    "bool (name)"
   ]
  },
  {
   "cell_type": "markdown",
   "id": "026da409-9e95-43ad-8131-7bc92a959a90",
   "metadata": {},
   "source": [
    "### If \"find\" cannot find the substring in the string\n"
   ]
  },
  {
   "cell_type": "code",
   "execution_count": 14,
   "id": "ce5f7135-a1b6-469c-bbfd-81175f6ab61c",
   "metadata": {
    "tags": []
   },
   "outputs": [
    {
     "data": {
      "text/plain": [
       "-1"
      ]
     },
     "execution_count": 14,
     "metadata": {},
     "output_type": "execute_result"
    }
   ],
   "source": [
    "name . find ( ' Jasdfasdasdf ' )"
   ]
  },
  {
   "cell_type": "markdown",
   "id": "f2b716fe-8a1f-4fd6-8561-13a658526a46",
   "metadata": {},
   "source": [
    "### Strings will put anything you put in them into the code.\n",
    "### \"Mickey\" is not the same as \" Mickey \". The first one looks for Mickey, the second looks for \"space\"Mickey."
   ]
  },
  {
   "cell_type": "code",
   "execution_count": 24,
   "id": "7f9ddac4-a61b-496e-afca-d453abfa5219",
   "metadata": {
    "tags": []
   },
   "outputs": [
    {
     "data": {
      "text/plain": [
       "2"
      ]
     },
     "execution_count": 24,
     "metadata": {},
     "output_type": "execute_result"
    }
   ],
   "source": [
    "x = 1\n",
    "x = x + 1\n",
    "x"
   ]
  },
  {
   "cell_type": "code",
   "execution_count": 25,
   "id": "faa1aca2-99e8-4db7-a1b2-5ea8888ccf6e",
   "metadata": {
    "tags": []
   },
   "outputs": [
    {
     "data": {
      "text/plain": [
       "7"
      ]
     },
     "execution_count": 25,
     "metadata": {},
     "output_type": "execute_result"
    }
   ],
   "source": [
    "1 + 3 * 2"
   ]
  },
  {
   "cell_type": "code",
   "execution_count": 26,
   "id": "ce760267-ec81-4673-beb1-955f299ff9c2",
   "metadata": {
    "tags": []
   },
   "outputs": [
    {
     "data": {
      "text/plain": [
       "str"
      ]
     },
     "execution_count": 26,
     "metadata": {},
     "output_type": "execute_result"
    }
   ],
   "source": [
    "type (\"7.1\" )"
   ]
  },
  {
   "cell_type": "code",
   "execution_count": 27,
   "id": "510dc36e-5456-4dc2-a6f0-3e315b87c1eb",
   "metadata": {
    "tags": []
   },
   "outputs": [
    {
     "data": {
      "text/plain": [
       "1"
      ]
     },
     "execution_count": 27,
     "metadata": {},
     "output_type": "execute_result"
    }
   ],
   "source": [
    "int (True)"
   ]
  },
  {
   "cell_type": "code",
   "execution_count": 28,
   "id": "0a0ea677-50a4-48ed-bb88-0a05186e61d2",
   "metadata": {
    "tags": []
   },
   "outputs": [
    {
     "data": {
      "text/plain": [
       "'12'"
      ]
     },
     "execution_count": 28,
     "metadata": {},
     "output_type": "execute_result"
    }
   ],
   "source": [
    "'1' + '2'"
   ]
  },
  {
   "cell_type": "code",
   "execution_count": 29,
   "id": "24455c89-3ee1-4fd4-8303-7a10b3710d14",
   "metadata": {
    "tags": []
   },
   "outputs": [
    {
     "data": {
      "text/plain": [
       "'HELLO'"
      ]
     },
     "execution_count": 29,
     "metadata": {},
     "output_type": "execute_result"
    }
   ],
   "source": [
    "myvar = 'hello'\n",
    "myvar. upper ( )"
   ]
  },
  {
   "cell_type": "code",
   "execution_count": 30,
   "id": "d65e1d7a-165b-4cf0-8812-a6237e01286d",
   "metadata": {
    "tags": []
   },
   "outputs": [
    {
     "data": {
      "text/plain": [
       "'2'"
      ]
     },
     "execution_count": 30,
     "metadata": {},
     "output_type": "execute_result"
    }
   ],
   "source": [
    "str ( 1+1)"
   ]
  },
  {
   "cell_type": "code",
   "execution_count": 31,
   "id": "a7ff044e-ef25-4e9a-ad8c-0a4e4fa0b0b7",
   "metadata": {
    "tags": []
   },
   "outputs": [
    {
     "data": {
      "text/plain": [
       "'ab3'"
      ]
     },
     "execution_count": 31,
     "metadata": {},
     "output_type": "execute_result"
    }
   ],
   "source": [
    "'123'.replace (\"12\", \"ab\")"
   ]
  },
  {
   "cell_type": "code",
   "execution_count": 36,
   "id": "bb539fe6-792f-4634-8f73-139b6ec45014",
   "metadata": {
    "tags": []
   },
   "outputs": [
    {
     "data": {
      "text/plain": [
       "float"
      ]
     },
     "execution_count": 36,
     "metadata": {},
     "output_type": "execute_result"
    }
   ],
   "source": [
    "x = 2/2\n",
    "x\n",
    "type (x)"
   ]
  },
  {
   "cell_type": "code",
   "execution_count": null,
   "id": "dd28c09c-a672-4795-aefc-5c06fc68609d",
   "metadata": {},
   "outputs": [],
   "source": []
  }
 ],
 "metadata": {
  "kernelspec": {
   "display_name": "Python 3 (ipykernel)",
   "language": "python",
   "name": "python3"
  },
  "language_info": {
   "codemirror_mode": {
    "name": "ipython",
    "version": 3
   },
   "file_extension": ".py",
   "mimetype": "text/x-python",
   "name": "python",
   "nbconvert_exporter": "python",
   "pygments_lexer": "ipython3",
   "version": "3.11.4"
  }
 },
 "nbformat": 4,
 "nbformat_minor": 5
}
